{
 "cells": [
  {
   "cell_type": "code",
   "execution_count": 1,
   "metadata": {},
   "outputs": [],
   "source": [
    "# Import libraries, define data zones and time ranges, and authenticate\n",
    "import polars as pl\n",
    "import os\n",
    "import sys\n",
    "module_path = os.path.abspath(os.path.join('..'))\n",
    "if module_path not in sys.path:\n",
    "    sys.path.append(module_path)\n",
    "\n",
    "from api_wrapper.user_params import *\n",
    "from api_wrapper.altitude_params import *\n",
    "import api_wrapper.altitude_functions as altitude\n",
    "\n",
    "client = altitude.get_client(db = 'example_db')"
   ]
  },
  {
   "cell_type": "code",
   "execution_count": null,
   "metadata": {},
   "outputs": [],
   "source": [
    "# getDatabaseInfo example\n",
    "params = {\n",
    "\"queryType\": \"getDatabaseInfo\"\n",
    "}\n",
    "job_ids, job_statuses, job_outputs = altitude.query_api(client, params, process = False)\n",
    "print(job_outputs)"
   ]
  },
  {
   "cell_type": "code",
   "execution_count": null,
   "metadata": {},
   "outputs": [],
   "source": [
    "# getExpansionFactors example\n",
    "params = {\n",
    "   \"queryType\": \"getExpansionFactors\",\n",
    "   \"year\": 2021,\n",
    "   \"zones\": richmond_zones,\n",
    "   \"weekdayOnly\": True\n",
    "   }\n",
    "\n",
    "job_ids, job_statuses, job_outputs = altitude.query_api(client, params, out_path = out_path, serialize = True, process = True)\n",
    "result = job_outputs[0]\n",
    "expansion_factors_df = result.results"
   ]
  },
  {
   "cell_type": "code",
   "execution_count": null,
   "metadata": {},
   "outputs": [],
   "source": [
    "# getVehicleClasses example (NOTE: requires process = True parameter)\n",
    "params = {\n",
    "    'queryType': 'getVehicleClasses',\n",
    "    'vehicleClassSchemeId': 3\n",
    "}\n",
    "job_ids, job_statuses, job_outputs = altitude.query_api(client, params, out_path = out_path, serialize = True, process = True)\n",
    "result = job_outputs[0]\n",
    "classes_df = result.results"
   ]
  },
  {
   "cell_type": "code",
   "execution_count": null,
   "metadata": {},
   "outputs": [],
   "source": [
    "# getIndustries example\n",
    "params = {\"queryType\": \"getIndustries\"}\n",
    "job_ids, job_statuses, job_outputs = altitude.query_api(client, params, out_path = out_path, serialize = True, process = False)\n",
    "result_json = job_outputs[0]\n",
    "industries_df = pl.DataFrame(result_json[0:])\n",
    "# industries_df has a NAICS1From and NAICS1To column. \n",
    "# Convert to just have a NAICS column with all values in the range.\n",
    "industries_df = (industries_df\n",
    "    .with_columns(pl.int_ranges(pl.col(\"NAICS_Code_1_From\"), pl.col(\"NAICS_Code_1_To\")+1).alias(\"NAICS1\"))\n",
    "    .drop([\"NAICS_Code_1_From\",\"NAICS_Code_1_To\"])\n",
    "    .explode(\"NAICS1\")\n",
    "    .sort(\"NAICS1\")\n",
    ")"
   ]
  },
  {
   "cell_type": "code",
   "execution_count": null,
   "metadata": {},
   "outputs": [],
   "source": [
    "# createZoneType example \n",
    "params = {\n",
    "\"queryType\": \"createCustomZoneType\",\n",
    "\"comments\": \"Multi-county region (not necessarily contiguous).\",\n",
    "\"customZoneTypeName\": \"Region\"\n",
    "}\n",
    "job_ids, job_statuses, job_outputs = altitude.query_api(client, params, out_path = out_path, serialize = True, process = False)\n",
    "result_json = job_outputs[0]"
   ]
  },
  {
   "cell_type": "code",
   "execution_count": null,
   "metadata": {},
   "outputs": [],
   "source": [
    "# getCustomZones example\n",
    "params = {\n",
    "\"queryType\": \"getCustomZones\"\n",
    "}\n",
    "job_ids, job_statuses, job_outputs = altitude.query_api(client, params, out_path = out_path, serialize = True, process = False)\n",
    "result_json = job_outputs[0]\n",
    "custom_zones_df = pl.DataFrame(result_json[0:])"
   ]
  },
  {
   "cell_type": "code",
   "execution_count": null,
   "metadata": {},
   "outputs": [],
   "source": [
    "# getZones example (non-custom zones only---counties in Richmond & Newport News)\n",
    "params = {\n",
    "    'queryType': 'getZones',\n",
    "    'zoneType': 'TAZ',\n",
    "    'filters':  [{'RegionIds': [entry['ZoneId'] for entry in (richmond_zones)], 'RegionType': 'County'}]\n",
    "}\n",
    "job_ids, job_statuses, job_outputs = altitude.query_api(client, params, process = False)\n",
    "result_json = job_outputs[0]\n",
    "standard_zones_df = pl.DataFrame(result_json[0:])"
   ]
  },
  {
   "cell_type": "code",
   "execution_count": null,
   "metadata": {},
   "outputs": [],
   "source": [
    "# Option 1 to create custom zones from counties: NOT working due to API limitations, except for very small # of counties\n",
    "new_zone_id = altitude.create_zone_from_counties(client, richmond_zones, \"Richmond_All\")\n",
    "# Option 2 to create custom zones from counties: can create geojson string and upload online\n",
    "new_zone_geojson = altitude.create_geojson_from_counties(client, richmond_zones)"
   ]
  }
 ],
 "metadata": {
  "kernelspec": {
   "display_name": "Python 3 (ipykernel)",
   "language": "python",
   "name": "python3"
  },
  "language_info": {
   "codemirror_mode": {
    "name": "ipython",
    "version": 3
   },
   "file_extension": ".py",
   "mimetype": "text/x-python",
   "name": "python",
   "nbconvert_exporter": "python",
   "pygments_lexer": "ipython3",
   "version": "3.11.8"
  }
 },
 "nbformat": 4,
 "nbformat_minor": 2
}
