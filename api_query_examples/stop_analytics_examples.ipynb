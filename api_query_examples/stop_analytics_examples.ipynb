{
 "cells": [
  {
   "cell_type": "code",
   "execution_count": 1,
   "metadata": {},
   "outputs": [],
   "source": [
    "# Import libraries, define data zones and time ranges, and authenticate\n",
    "import polars as pl\n",
    "import os\n",
    "import sys\n",
    "module_path = os.path.abspath(os.path.join('..'))\n",
    "if module_path not in sys.path:\n",
    "    sys.path.append(module_path)\n",
    "\n",
    "from api_wrapper.user_params import *\n",
    "from api_wrapper.altitude_params import *\n",
    "import api_wrapper.altitude_functions as altitude"
   ]
  },
  {
   "cell_type": "code",
   "execution_count": 2,
   "metadata": {},
   "outputs": [
    {
     "name": "stdout",
     "output_type": "stream",
     "text": [
      "Job 1 of 1 created.\n"
     ]
    }
   ],
   "source": [
    "#getStopAnalytics example with custom zone (Richmond + Newport analysis region counties). Results will be aggregated across the whole region.\n",
    "params = {\n",
    "   'queryType': 'getStopAnalytics',\n",
    "'dateRanges': [september21, february22],\n",
    "   'zones': richmond_zones,\n",
    "   'aggregationMode': 3,\n",
    "   'minStopDuration': 0,\n",
    "   'percentiles': [1, 5, 10, 20, 25, 30, 40, 50, 60, 70, 75, 80, 90, 95, 99],\n",
    "}\n",
    "job_ids, job_statuses, job_outputs = altitude.query_api(client, params, out_path = out_path, serialize = True, process = True)\n",
    "result_df = job_outputs[0].results\n",
    "\n"
   ]
  }
 ],
 "metadata": {
  "kernelspec": {
   "display_name": "py311",
   "language": "python",
   "name": "python3"
  },
  "language_info": {
   "codemirror_mode": {
    "name": "ipython",
    "version": 3
   },
   "file_extension": ".py",
   "mimetype": "text/x-python",
   "name": "python",
   "nbconvert_exporter": "python",
   "pygments_lexer": "ipython3",
   "version": "3.11.6"
  }
 },
 "nbformat": 4,
 "nbformat_minor": 2
}
