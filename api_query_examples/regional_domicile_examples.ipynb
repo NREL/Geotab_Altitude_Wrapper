{
 "cells": [
  {
   "cell_type": "code",
   "execution_count": 1,
   "metadata": {},
   "outputs": [],
   "source": [
    "# Import libraries, define data zones and time ranges, and authenticate\n",
    "import polars as pl\n",
    "import os\n",
    "import sys\n",
    "module_path = os.path.abspath(os.path.join('..'))\n",
    "if module_path not in sys.path:\n",
    "    sys.path.append(module_path)\n",
    "\n",
    "from api_wrapper.user_params import *\n",
    "from api_wrapper.altitude_params import *\n",
    "from api_wrapper import analysis_functions\n",
    "import api_wrapper.altitude_functions as altitude"
   ]
  },
  {
   "cell_type": "code",
   "execution_count": null,
   "metadata": {},
   "outputs": [],
   "source": [
    "#getRegionalDomicileAnalytics example with standard zones (list of counties for county-by-county results). Results will be separated by zone.\n",
    "params = defaultRegionalDomicileParams\n",
    "params['zones'] = [richmond_zones]\n",
    "params['dateRange'] = months[0]\n",
    "params['vehicleClasses'] = classes_and_schemes[0]['vehicleClasses']\n",
    "params['vehicleClassSchemeId'] = classes_and_schemes[0]['vehicleClassSchemeId']\n",
    "params['vocations'] = [1]\n",
    "job_ids, job_statuses, job_outputs = altitude.query_api(client, params, out_path = out_path, serialize = True, process = True)\n",
    "result_df = job_outputs[0].results"
   ]
  },
  {
   "cell_type": "code",
   "execution_count": null,
   "metadata": {},
   "outputs": [],
   "source": [
    "#getRegionalDomicileAnalytics example with custom zone (Richmond analysis region counties). Results will be aggregated across the whole region.\n",
    "params = defaultRegionalDomicileParams\n",
    "params['zones'] = [richmond_grouped_zone_id]\n",
    "params['dateRange'] = months[0]\n",
    "params['vehicleClasses'] = classes_and_schemes[0]['vehicleClasses']\n",
    "params['vehicleClassSchemeId'] = classes_and_schemes[0]['vehicleClassSchemeId']\n",
    "params['vocations'] = [1]\n",
    "job_ids, job_statuses, job_outputs = altitude.query_api(client, params, out_path = out_path, serialize = True, process = True)\n",
    "results = job_outputs[0].results\n",
    "subzone_info = job_outputs[0].subzone_info\n",
    "query_info = job_outputs[0].query_info\n",
    "# OD Results Analysis\n",
    "stop_result_percentiles = (query_info\n",
    "    .join(results, on=\"Query_ID\", how=\"inner\")\n",
    "    .join(subzone_info, how=\"inner\", on=[\"Query_ID\", \"Subzone\"])\n",
    "    .filter(pl.col(\"Group_By\")==\"None\",\n",
    "            pl.col(\"Statistic\") == \"Percentile\")\n",
    "    .pipe(analysis_functions.getWeibullFit, measure_names=[\"DomDCDistance\"])\n",
    ").collect()"
   ]
  }
 ],
 "metadata": {
  "kernelspec": {
   "display_name": "py311",
   "language": "python",
   "name": "python3"
  },
  "language_info": {
   "codemirror_mode": {
    "name": "ipython",
    "version": 3
   },
   "file_extension": ".py",
   "mimetype": "text/x-python",
   "name": "python",
   "nbconvert_exporter": "python",
   "pygments_lexer": "ipython3",
   "version": "3.11.8"
  }
 },
 "nbformat": 4,
 "nbformat_minor": 2
}
