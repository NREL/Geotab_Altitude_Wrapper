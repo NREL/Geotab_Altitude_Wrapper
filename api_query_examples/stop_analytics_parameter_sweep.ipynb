{
 "cells": [
  {
   "cell_type": "code",
   "execution_count": null,
   "metadata": {},
   "outputs": [],
   "source": [
    "# Import libraries, define data zones and time ranges, and authenticate\n",
    "import polars as pl\n",
    "import os\n",
    "import sys\n",
    "module_path = os.path.abspath(os.path.join('..'))\n",
    "if module_path not in sys.path:\n",
    "    sys.path.append(module_path)\n",
    "\n",
    "from api_wrapper.user_params import *\n",
    "from api_wrapper.altitude_params import *\n",
    "import api_wrapper.altitude_functions as altitude"
   ]
  },
  {
   "cell_type": "code",
   "execution_count": null,
   "metadata": {},
   "outputs": [],
   "source": [
    "# Stop Analytics parameter sweep (aggregated across the full region as a custom zone)\n",
    "params_list = []\n",
    "params = defaultStopAnalyticsParams\n",
    "for weekday in singleDaysOfWeek:\n",
    "    params['daysOfWeek'] = weekday\n",
    "    for timeRange in altitude.timeRangesAllStopAnalytics:\n",
    "        params['componentTimeRange'] = timeRange\n",
    "        params_list.append(params.copy())\n",
    "\n",
    "job_ids, job_statuses, job_outputs = altitude.query_api(client, params, out_path = out_path, serialize = True, process = True)\n",
    "altitude.combine_and_clean_parquets(out_path)"
   ]
  }
 ],
 "metadata": {
  "language_info": {
   "name": "python"
  }
 },
 "nbformat": 4,
 "nbformat_minor": 2
}
