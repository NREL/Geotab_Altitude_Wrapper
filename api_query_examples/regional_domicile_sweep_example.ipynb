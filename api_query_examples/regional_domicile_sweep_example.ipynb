{
 "cells": [
  {
   "cell_type": "code",
   "execution_count": 10,
   "metadata": {},
   "outputs": [],
   "source": [
    "# Import libraries, define data zones and time ranges, and authenticate\n",
    "import polars as pl\n",
    "import os\n",
    "import sys\n",
    "module_path = os.path.abspath(os.path.join('..'))\n",
    "if module_path not in sys.path:\n",
    "    sys.path.append(module_path)\n",
    "\n",
    "from api_wrapper.user_params import *\n",
    "from api_wrapper.altitude_params import *\n",
    "import api_wrapper.altitude_functions as altitude"
   ]
  },
  {
   "cell_type": "code",
   "execution_count": null,
   "metadata": {},
   "outputs": [],
   "source": [
    "# Regional Domicile Analytics sweep: GVWR class X Vocation \n",
    "params_list = []\n",
    "params = altitude.defaultDailyRegionalDomicileParams\n",
    "for month in altitude.months: \n",
    "   params['dateRange'] = month \n",
    "   for aggregateByDay in [True, False]:\n",
    "      params['aggregateByDay'] = aggregateByDay\n",
    "      for class_and_scheme in altitude.classes_and_schemes:\n",
    "         params['vehicleClasses'] = class_and_scheme['vehicleClasses']\n",
    "         params['vehicleClassSchemeId'] = class_and_scheme['vehicleClassSchemeId']\n",
    "         for vocation in [1,2,3,4,5]:\n",
    "            params['vocations'] = [vocation]\n",
    "            params_list.append(params.copy())\n",
    "\n",
    "job_ids, job_statuses, job_outputs = altitude.query_api(client, params, out_path = out_path, serialize = True, process = True)\n",
    "altitude.combine_and_clean_parquets(out_path)"
   ]
  },
  {
   "cell_type": "code",
   "execution_count": null,
   "metadata": {},
   "outputs": [],
   "source": [
    "# All included classes and vocations\n",
    "params_list = []\n",
    "params = defaultRegionalDomicileParams\n",
    "for month in [september21, february22]: \n",
    "   params['dateRange'] = month \n",
    "   for aggregateByDay in [True, False]:\n",
    "      params['aggregateByDay'] = aggregateByDay\n",
    "      params_list.append(params.copy())\n",
    "\n",
    "job_ids, job_statuses, job_outputs = altitude.query_api(client, params, out_path = out_path, serialize = True, process = True)\n",
    "altitude.combine_and_clean_parquets(out_path)"
   ]
  },
  {
   "cell_type": "code",
   "execution_count": null,
   "metadata": {},
   "outputs": [],
   "source": [
    "# Sweep GVWR classes\n",
    "params_list = []\n",
    "params = defaultRegionalDomicileParams\n",
    "for month in [september21, february22]: \n",
    "   params['dateRange'] = month \n",
    "   for aggregateByDay in [False]:\n",
    "      params['aggregateByDay'] = aggregateByDay\n",
    "      for class_and_scheme in classes_and_schemes:\n",
    "         params['vehicleClasses'] = class_and_scheme['vehicleClasses']\n",
    "         params['vehicleClassSchemeId'] = class_and_scheme['vehicleClassSchemeId']\n",
    "         params_list.append(params.copy())\n",
    "\n",
    "job_ids, job_statuses, job_outputs = altitude.query_api(client, params, out_path = out_path, serialize = True, process = True)\n",
    "altitude.combine_and_clean_parquets(out_path)"
   ]
  },
  {
   "cell_type": "code",
   "execution_count": null,
   "metadata": {},
   "outputs": [],
   "source": [
    "# Sweep vocations\n",
    "params_list = []\n",
    "params = defaultRegionalDomicileParams\n",
    "for month in [september21, february22]: \n",
    "    params['dateRange'] = month \n",
    "    for aggregateByDay in [False]:\n",
    "        params['aggregateByDay'] = aggregateByDay\n",
    "        for vocation in vocations:\n",
    "            params['vocations'] = [vocation]\n",
    "            params_list.append(params.copy())\n",
    "\n",
    "job_ids, job_statuses, job_outputs = altitude.query_api(client, params, out_path = out_path, serialize = True, process = True)\n",
    "altitude.combine_and_clean_parquets(out_path)"
   ]
  },
  {
   "cell_type": "code",
   "execution_count": null,
   "metadata": {},
   "outputs": [],
   "source": [
    "# Sweep Industries\n",
    "params_list = []\n",
    "params = defaultRegionalDomicileParams\n",
    "for month in months: \n",
    "    params['dateRange'] = month \n",
    "    for aggregateByDay in [True, False]:\n",
    "        params['aggregateByDay'] = aggregateByDay\n",
    "        for industry in industriesAll:\n",
    "            params['NAICS'] = [industry]\n",
    "            params_list.append(params.copy())\n",
    "\n",
    "job_ids, job_statuses, job_outputs = altitude.query_api(client, params_list)\n",
    "altitude.combine_and_clean_parquets(out_path)"
   ]
  },
  {
   "cell_type": "code",
   "execution_count": null,
   "metadata": {},
   "outputs": [],
   "source": [
    "# Regional Domicile Analytics sweep: GVWR class X Vocation \n",
    "params_list = []\n",
    "params = defaultDailyRegionalDomicileParams\n",
    "for month in months: \n",
    "   params['dateRange'] = month \n",
    "   for aggregateByDay in [True]:\n",
    "      params['aggregateByDay'] = aggregateByDay\n",
    "      for class_and_scheme in classes_and_schemes:\n",
    "         params['vehicleClasses'] = class_and_scheme['vehicleClasses']\n",
    "         params['vehicleClassSchemeId'] = class_and_scheme['vehicleClassSchemeId']\n",
    "         for vocation in vocations:\n",
    "            params['vocations'] = [vocation]\n",
    "            params_list.append(params.copy())\n",
    "\n",
    "job_ids, job_statuses, job_outputs = altitude.query_api(client, params_list)\n",
    "altitude.combine_and_clean_parquets(out_path)"
   ]
  },
  {
   "cell_type": "code",
   "execution_count": null,
   "metadata": {},
   "outputs": [],
   "source": [
    "# Regional Domicile Analytics sweep: GVWR class X Industry \n",
    "params_list = []\n",
    "params = defaultRegionalDomicileParams\n",
    "for month in months: \n",
    "    params['dateRange'] = month \n",
    "    for aggregateByDay in [True, False]:\n",
    "        params['aggregateByDay'] = aggregateByDay\n",
    "        for class_and_scheme in classes_and_schemes:\n",
    "            params['vehicleClasses'] = class_and_scheme['vehicleClasses']\n",
    "            params['vehicleClassSchemeId'] = class_and_scheme['vehicleClassSchemeId']\n",
    "            for industry in industriesAll:\n",
    "                params['NAICS'] = [industry]\n",
    "                params_list.append(params.copy())\n",
    "\n",
    "job_ids, job_statuses, job_outputs = altitude.query_api(client, params_list)\n",
    "altitude.combine_and_clean_parquets(out_path)"
   ]
  },
  {
   "cell_type": "code",
   "execution_count": null,
   "metadata": {},
   "outputs": [],
   "source": [
    "# Regional Domicile Analytics Vocation X Industry\n",
    "params_list = []\n",
    "params = defaultRegionalDomicileParams\n",
    "for month in months: \n",
    "    params['dateRange'] = month \n",
    "    for aggregateByDay in [True, False]:\n",
    "        params['aggregateByDay'] = aggregateByDay\n",
    "        for vocationGroup in vocations:\n",
    "            params['vocations'] = [vocationGroup]\n",
    "            for industry in industriesAll:\n",
    "                params['NAICS'] = [industry]\n",
    "                params_list.append(params.copy())\n",
    "\n",
    "job_ids, job_statuses, job_outputs = altitude.query_api(client, params_list)\n",
    "altitude.combine_and_clean_parquets(out_path)"
   ]
  },
  {
   "cell_type": "code",
   "execution_count": null,
   "metadata": {},
   "outputs": [],
   "source": [
    "# Regional Domicile Analytics Industry X Vocation X GVWR sweep\n",
    "params_list = []\n",
    "params = defaultRegionalDomicileParams\n",
    "for month in months: \n",
    "    params['dateRange'] = month \n",
    "    for aggregateByDay in [True, False]:\n",
    "        params['aggregateByDay'] = aggregateByDay\n",
    "        for industry in industriesAll:\n",
    "            params['NAICS'] = [industry]\n",
    "            for vocationGroup in vocations:\n",
    "                params['vocations'] = [vocationGroup]\n",
    "                for class_and_scheme in classes_and_schemes:\n",
    "                    params['vehicleClasses'] = class_and_scheme['vehicleClasses']\n",
    "                    params['vehicleClassSchemeId'] = class_and_scheme['vehicleClassSchemeId']\n",
    "                    params_list.append(params.copy())\n",
    "\n",
    "job_ids, job_statuses, job_outputs = altitude.query_api(client, params_list)\n",
    "altitude.combine_and_clean_parquets(out_path)"
   ]
  }
 ],
 "metadata": {
  "kernelspec": {
   "display_name": "Python 3 (ipykernel)",
   "language": "python",
   "name": "python3"
  },
  "language_info": {
   "codemirror_mode": {
    "name": "ipython",
    "version": 3
   },
   "file_extension": ".py",
   "mimetype": "text/x-python",
   "name": "python",
   "nbconvert_exporter": "python",
   "pygments_lexer": "ipython3",
   "version": "3.11.6"
  }
 },
 "nbformat": 4,
 "nbformat_minor": 2
}
